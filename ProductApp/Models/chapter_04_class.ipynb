{
 "cells": [
  {
   "cell_type": "code",
   "execution_count": 17,
   "metadata": {},
   "outputs": [],
   "source": [
    "import datetime\n",
    "\n",
    "class Product:\n",
    "\n",
    "    def __init__(self, name=\"Default\", price=0, quantity=1):\n",
    "        self.__name = name\n",
    "        self.__price = price\n",
    "        self.__quantity = quantity\n",
    "\n",
    "        \n",
    "        \n",
    "        self.name = name\n",
    "        self.price = price\n",
    "        self.quantity = quantity\n",
    "\n",
    "        # Nesnenin oluşturulduğu zaman\n",
    "        self.creation_date = datetime.datetime.now()\n",
    "        print(f\"Product '{self.name}' created on {self.creation_date.strftime('%Y-%m-%d %H:%M:%S')}\")\n",
    "\n",
    "    @property\n",
    "    def name(self):\n",
    "        return self.__name\n",
    "\n",
    "    @name.setter\n",
    "    def name(self, value):\n",
    "        if not (3 <= len(value) <= 8):\n",
    "            raise ValueError(\"Ürün ismi en az 3 en fazla 8 karakter olmalı.\")\n",
    "        self.__name = value\n",
    "\n",
    "    @property\n",
    "    def price(self):\n",
    "        return self.__price\n",
    "\n",
    "    @price.setter\n",
    "    def price(self, value):\n",
    "        if value < 0:\n",
    "            raise ValueError(\"Ürün fiyat değeri minimum sıfır olmalı\")\n",
    "        self.__price = value\n",
    "\n",
    "    @property\n",
    "    def quantity(self):\n",
    "        return self.__quantity\n",
    "\n",
    "    @quantity.setter\n",
    "    def quantity(self, value):\n",
    "        if value < 1:\n",
    "            raise ValueError(\"Ürün adet değeri minimum bir olmalı\")\n",
    "        self.__quantity = value\n",
    "\n",
    "    def get_total_price(self):\n",
    "        return self.__price * self.__quantity\n",
    "    \n",
    "    def __repr__(self):\n",
    "        return f\"{self.__name} - {self.__price} - {self.__quantity}\""
   ]
  },
  {
   "cell_type": "code",
   "execution_count": 18,
   "metadata": {},
   "outputs": [
    {
     "name": "stdout",
     "output_type": "stream",
     "text": [
      "Product 'Default' created on 2024-08-29 00:25:00\n",
      "Default - 0 - 1\n"
     ]
    }
   ],
   "source": [
    "item1=Product()\n",
    "print(item1)"
   ]
  },
  {
   "cell_type": "code",
   "execution_count": null,
   "metadata": {},
   "outputs": [],
   "source": []
  }
 ],
 "metadata": {
  "kernelspec": {
   "display_name": "base",
   "language": "python",
   "name": "python3"
  },
  "language_info": {
   "codemirror_mode": {
    "name": "ipython",
    "version": 3
   },
   "file_extension": ".py",
   "mimetype": "text/x-python",
   "name": "python",
   "nbconvert_exporter": "python",
   "pygments_lexer": "ipython3",
   "version": "3.11.5"
  }
 },
 "nbformat": 4,
 "nbformat_minor": 2
}
